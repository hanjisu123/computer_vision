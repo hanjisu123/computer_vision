{
 "cells": [
  {
   "cell_type": "code",
   "execution_count": 2,
   "metadata": {},
   "outputs": [],
   "source": [
    "# RGB 컬러 영상을 채널별로 구분해 시각화하기\n",
    "\n",
    "import cv2\n",
    "import sys\n",
    "\n",
    "img = cv2.imread(\"soccer.jpg\")\n",
    "\n",
    "if img is None:\n",
    "    sys.exit(\"파일을 찾을 수 없습니다.\")\n",
    "\n",
    "cv2.imshow(\"original_RGB\", img)\n",
    "cv2.imshow(\"Upper left half\", img[0 : img.shape[0] // 2, 0 : img.shape[1] // 2, :])\n",
    "cv2.imshow(\n",
    "    \"Center half\",\n",
    "    img[\n",
    "        img.shape[0] // 4 : 3 * img.shape[0] // 4,\n",
    "        img.shape[1] // 4 : 3 * img.shape[1] // 4,\n",
    "        :,\n",
    "    ],\n",
    ")\n",
    "\n",
    "cv2.imshow(\"R channel\", img[:, :, 2])\n",
    "cv2.imshow(\"G channel\", img[:, :, 1])\n",
    "cv2.imshow(\"B channel\", img[:, :, 0])\n",
    "\n",
    "cv2.waitKey()\n",
    "cv2.destroyAllWindows()"
   ]
  },
  {
   "cell_type": "code",
   "execution_count": null,
   "metadata": {},
   "outputs": [],
   "source": []
  }
 ],
 "metadata": {
  "kernelspec": {
   "display_name": "Didu",
   "language": "python",
   "name": "python3"
  },
  "language_info": {
   "codemirror_mode": {
    "name": "ipython",
    "version": 3
   },
   "file_extension": ".py",
   "mimetype": "text/x-python",
   "name": "python",
   "nbconvert_exporter": "python",
   "pygments_lexer": "ipython3",
   "version": "3.10.13"
  }
 },
 "nbformat": 4,
 "nbformat_minor": 2
}
