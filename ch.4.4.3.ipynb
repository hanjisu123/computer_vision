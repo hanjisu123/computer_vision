{
 "cells": [
  {
   "cell_type": "code",
   "execution_count": 2,
   "metadata": {},
   "outputs": [
    {
     "ename": "AttributeError",
     "evalue": "No skimage.future attribute graph",
     "output_type": "error",
     "traceback": [
      "\u001b[1;31m---------------------------------------------------------------------------\u001b[0m",
      "\u001b[1;31mAttributeError\u001b[0m                            Traceback (most recent call last)",
      "\u001b[1;32mc:\\Users\\lllin\\Documents\\computer_vision\\assignment\\ch.4.4.3.ipynb Cell 1\u001b[0m line \u001b[0;36m1\n\u001b[0;32m     <a href='vscode-notebook-cell:/c%3A/Users/lllin/Documents/computer_vision/assignment/ch.4.4.3.ipynb#W1sZmlsZQ%3D%3D?line=9'>10</a>\u001b[0m start \u001b[39m=\u001b[39m time\u001b[39m.\u001b[39mtime()\n\u001b[0;32m     <a href='vscode-notebook-cell:/c%3A/Users/lllin/Documents/computer_vision/assignment/ch.4.4.3.ipynb#W1sZmlsZQ%3D%3D?line=10'>11</a>\u001b[0m slic \u001b[39m=\u001b[39m skimage\u001b[39m.\u001b[39msegmentation\u001b[39m.\u001b[39mslic(coffee, compactness\u001b[39m=\u001b[39m\u001b[39m20\u001b[39m, n_segments\u001b[39m=\u001b[39m\u001b[39m600\u001b[39m, start_label\u001b[39m=\u001b[39m\u001b[39m1\u001b[39m)\n\u001b[1;32m---> <a href='vscode-notebook-cell:/c%3A/Users/lllin/Documents/computer_vision/assignment/ch.4.4.3.ipynb#W1sZmlsZQ%3D%3D?line=11'>12</a>\u001b[0m g \u001b[39m=\u001b[39m skimage\u001b[39m.\u001b[39;49mfuture\u001b[39m.\u001b[39;49mgraph\u001b[39m.\u001b[39mrag_mean_color(coffee, slic, mode\u001b[39m=\u001b[39m\u001b[39m\"\u001b[39m\u001b[39msimilarity\u001b[39m\u001b[39m\"\u001b[39m)\n\u001b[0;32m     <a href='vscode-notebook-cell:/c%3A/Users/lllin/Documents/computer_vision/assignment/ch.4.4.3.ipynb#W1sZmlsZQ%3D%3D?line=12'>13</a>\u001b[0m ncut \u001b[39m=\u001b[39m skimage\u001b[39m.\u001b[39mfuture\u001b[39m.\u001b[39mgraph\u001b[39m.\u001b[39mcut_normalized(slic, g)  \u001b[39m# 정규화 절단\u001b[39;00m\n\u001b[0;32m     <a href='vscode-notebook-cell:/c%3A/Users/lllin/Documents/computer_vision/assignment/ch.4.4.3.ipynb#W1sZmlsZQ%3D%3D?line=13'>14</a>\u001b[0m \u001b[39mprint\u001b[39m(coffee\u001b[39m.\u001b[39mshape, \u001b[39m\"\u001b[39m\u001b[39m Coffee 영상을 분할하는데 \u001b[39m\u001b[39m\"\u001b[39m, time\u001b[39m.\u001b[39mtime() \u001b[39m-\u001b[39m start, \u001b[39m\"\u001b[39m\u001b[39m초 소요\u001b[39m\u001b[39m\"\u001b[39m)\n",
      "File \u001b[1;32mc:\\Users\\lllin\\miniconda3\\envs\\Didu\\lib\\site-packages\\lazy_loader\\__init__.py:89\u001b[0m, in \u001b[0;36mattach.<locals>.__getattr__\u001b[1;34m(name)\u001b[0m\n\u001b[0;32m     87\u001b[0m     \u001b[39mreturn\u001b[39;00m attr\n\u001b[0;32m     88\u001b[0m \u001b[39melse\u001b[39;00m:\n\u001b[1;32m---> 89\u001b[0m     \u001b[39mraise\u001b[39;00m \u001b[39mAttributeError\u001b[39;00m(\u001b[39mf\u001b[39m\u001b[39m\"\u001b[39m\u001b[39mNo \u001b[39m\u001b[39m{\u001b[39;00mpackage_name\u001b[39m}\u001b[39;00m\u001b[39m attribute \u001b[39m\u001b[39m{\u001b[39;00mname\u001b[39m}\u001b[39;00m\u001b[39m\"\u001b[39m)\n",
      "\u001b[1;31mAttributeError\u001b[0m: No skimage.future attribute graph"
     ]
    }
   ],
   "source": [
    "# 정규화 절단 알고리즘으로 영역 분할하기\n",
    "\n",
    "import skimage\n",
    "import numpy as np\n",
    "import cv2\n",
    "import time\n",
    "\n",
    "coffee = skimage.data.coffee()\n",
    "\n",
    "start = time.time()\n",
    "slic = skimage.segmentation.slic(coffee, compactness=20, n_segments=600, start_label=1)\n",
    "g = skimage.future.graph.rag_mean_color(coffee, slic, mode=\"similarity\")\n",
    "ncut = skimage.future.graph.cut_normalized(slic, g)  # 정규화 절단\n",
    "print(coffee.shape, \" Coffee 영상을 분할하는데 \", time.time() - start, \"초 소요\")\n",
    "\n",
    "marking = skimage.segmentation.mark_boundaries(coffee, ncut)\n",
    "ncut_coffee = np.uint8(marking * 255.0)\n",
    "\n",
    "cv2.imshow(\"Normalized cut\", cv2.cvtColor(ncut_coffee, cv2.COLOR_RGB2BGR))\n",
    "\n",
    "cv2.waitKey()\n",
    "cv2.destroyAllWindows()"
   ]
  }
 ],
 "metadata": {
  "kernelspec": {
   "display_name": "Didu",
   "language": "python",
   "name": "python3"
  },
  "language_info": {
   "codemirror_mode": {
    "name": "ipython",
    "version": 3
   },
   "file_extension": ".py",
   "mimetype": "text/x-python",
   "name": "python",
   "nbconvert_exporter": "python",
   "pygments_lexer": "ipython3",
   "version": "3.10.13"
  }
 },
 "nbformat": 4,
 "nbformat_minor": 2
}
